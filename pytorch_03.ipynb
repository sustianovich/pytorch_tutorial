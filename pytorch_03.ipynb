{
  "nbformat": 4,
  "nbformat_minor": 0,
  "metadata": {
    "colab": {
      "name": "pytorch_03.ipynb",
      "provenance": [],
      "authorship_tag": "ABX9TyPzLICPv5ucT1DZsRstghJF",
      "include_colab_link": true
    },
    "kernelspec": {
      "name": "python3",
      "display_name": "Python 3"
    }
  },
  "cells": [
    {
      "cell_type": "markdown",
      "metadata": {
        "id": "view-in-github",
        "colab_type": "text"
      },
      "source": [
        "<a href=\"https://colab.research.google.com/github/sustianovich/pytorch_tutorial/blob/main/pytorch_03.ipynb\" target=\"_parent\"><img src=\"https://colab.research.google.com/assets/colab-badge.svg\" alt=\"Open In Colab\"/></a>"
      ]
    },
    {
      "cell_type": "markdown",
      "metadata": {
        "id": "5-pBb4NPK0OJ"
      },
      "source": [
        "# 1) Image Classification Linear Regression"
      ]
    },
    {
      "cell_type": "code",
      "metadata": {
        "id": "ikl3uUWGKvl3"
      },
      "source": [
        "import torch\r\n",
        "import torchvision\r\n",
        "import numpy as np\r\n",
        "import matplotlib.pyplot as plt\r\n",
        "import torchvision.transforms as transforms\r\n",
        "%matplotlib inline\r\n",
        "\r\n",
        "from torchvision.datasets import MNIST"
      ],
      "execution_count": 115,
      "outputs": []
    },
    {
      "cell_type": "code",
      "metadata": {
        "colab": {
          "base_uri": "https://localhost:8080/"
        },
        "id": "RK3gGfDrMNf6",
        "outputId": "5eb1f3ac-fbb7-43ce-9f18-13a2eab1ea4a"
      },
      "source": [
        "from google.colab import drive\r\n",
        "drive.mount('/content/drive')"
      ],
      "execution_count": 116,
      "outputs": [
        {
          "output_type": "stream",
          "text": [
            "Drive already mounted at /content/drive; to attempt to forcibly remount, call drive.mount(\"/content/drive\", force_remount=True).\n"
          ],
          "name": "stdout"
        }
      ]
    },
    {
      "cell_type": "code",
      "metadata": {
        "id": "VJOISA6WMWzD"
      },
      "source": [
        "path_dataset = '/content/drive/MyDrive/Colab Notebooks/Pytorch_tutorial/dataset/'"
      ],
      "execution_count": 117,
      "outputs": []
    },
    {
      "cell_type": "code",
      "metadata": {
        "id": "EoMFzBpcLyPK"
      },
      "source": [
        "dataset = MNIST(root=path_dataset, download=True)"
      ],
      "execution_count": 118,
      "outputs": []
    },
    {
      "cell_type": "code",
      "metadata": {
        "colab": {
          "base_uri": "https://localhost:8080/"
        },
        "id": "uxSgrtSXM0gV",
        "outputId": "a5db77a6-fc50-4b07-ca01-6ede71fbce24"
      },
      "source": [
        "len(dataset)"
      ],
      "execution_count": 119,
      "outputs": [
        {
          "output_type": "execute_result",
          "data": {
            "text/plain": [
              "60000"
            ]
          },
          "metadata": {
            "tags": []
          },
          "execution_count": 119
        }
      ]
    },
    {
      "cell_type": "code",
      "metadata": {
        "colab": {
          "base_uri": "https://localhost:8080/"
        },
        "id": "tzdrFex2N6WP",
        "outputId": "d2365d8c-5347-4d4e-956c-bf145cd61f1d"
      },
      "source": [
        "test_dataset = MNIST(root=path_dataset, train=False)\r\n",
        "len(test_dataset)"
      ],
      "execution_count": 120,
      "outputs": [
        {
          "output_type": "execute_result",
          "data": {
            "text/plain": [
              "10000"
            ]
          },
          "metadata": {
            "tags": []
          },
          "execution_count": 120
        }
      ]
    },
    {
      "cell_type": "code",
      "metadata": {
        "colab": {
          "base_uri": "https://localhost:8080/",
          "height": 283
        },
        "id": "3KYHDdLrOnEu",
        "outputId": "993f512d-7d89-43ac-bea7-4628ab8dd076"
      },
      "source": [
        "image, label = dataset[0]\r\n",
        "plt.imshow(image, cmap='gray')\r\n",
        "print('label=', label)"
      ],
      "execution_count": 121,
      "outputs": [
        {
          "output_type": "stream",
          "text": [
            "label= 5\n"
          ],
          "name": "stdout"
        },
        {
          "output_type": "display_data",
          "data": {
            "image/png": "[encoded data removed]",
            "text/plain": [
              "<Figure size 432x288 with 1 Axes>"
            ]
          },
          "metadata": {
            "tags": [],
            "needs_background": "light"
          }
        }
      ]
    },
    {
      "cell_type": "code",
      "metadata": {
        "id": "GGXeBVWVPKh1"
      },
      "source": [
        "dataset = MNIST(root=path_dataset, train=True, transform=transforms.ToTensor())"
      ],
      "execution_count": 122,
      "outputs": []
    },
    {
      "cell_type": "code",
      "metadata": {
        "colab": {
          "base_uri": "https://localhost:8080/"
        },
        "id": "Kp_ETSuBYQgQ",
        "outputId": "0c82c81f-18f6-4003-f5ce-96e15f8ac33a"
      },
      "source": [
        "len(dataset)"
      ],
      "execution_count": 123,
      "outputs": [
        {
          "output_type": "execute_result",
          "data": {
            "text/plain": [
              "60000"
            ]
          },
          "metadata": {
            "tags": []
          },
          "execution_count": 123
        }
      ]
    },
    {
      "cell_type": "code",
      "metadata": {
        "colab": {
          "base_uri": "https://localhost:8080/"
        },
        "id": "6LcEBL8aPa5o",
        "outputId": "63ecd109-feed-40f0-d3d2-45e0adea1f00"
      },
      "source": [
        "img_tensor, label = dataset[0]\r\n",
        "print(img_tensor.shape, 'label=', label)"
      ],
      "execution_count": 124,
      "outputs": [
        {
          "output_type": "stream",
          "text": [
            "torch.Size([1, 28, 28]) label= 5\n"
          ],
          "name": "stdout"
        }
      ]
    },
    {
      "cell_type": "code",
      "metadata": {
        "colab": {
          "base_uri": "https://localhost:8080/",
          "height": 283
        },
        "id": "rXV41b4ZPrFs",
        "outputId": "c7510158-3a05-4d71-94db-762a99ea9dd0"
      },
      "source": [
        "plt.imshow(img_tensor[0, 10:15, 10:15], cmap='gray')"
      ],
      "execution_count": 125,
      "outputs": [
        {
          "output_type": "execute_result",
          "data": {
            "text/plain": [
              "<matplotlib.image.AxesImage at 0x7f0740f97c10>"
            ]
          },
          "metadata": {
            "tags": []
          },
          "execution_count": 125
        },
        {
          "output_type": "display_data",
          "data": {
            "image/png": "[encoded data removed]",
            "text/plain": [
              "<Figure size 432x288 with 1 Axes>"
            ]
          },
          "metadata": {
            "tags": [],
            "needs_background": "light"
          }
        }
      ]
    },
    {
      "cell_type": "code",
      "metadata": {
        "id": "bN5nwqoYQj8f"
      },
      "source": [
        "def split_indices(n, val_pct):\r\n",
        "  n_val = int(val_pct * n)\r\n",
        "  idxs = np.random.permutation(n)\r\n",
        "  return idxs[n_val:], idxs[:n_val]"
      ],
      "execution_count": 126,
      "outputs": []
    },
    {
      "cell_type": "code",
      "metadata": {
        "id": "gUxsxYNXUlVf"
      },
      "source": [
        "train_indices, val_indices = split_indices(len(dataset), val_pct=0.2)"
      ],
      "execution_count": 127,
      "outputs": []
    },
    {
      "cell_type": "code",
      "metadata": {
        "colab": {
          "base_uri": "https://localhost:8080/"
        },
        "id": "6lSPfuf0VHHj",
        "outputId": "6d30cec7-4a24-4da5-d03c-6614bb5b4277"
      },
      "source": [
        "print(len(train_indices), len(val_indices))\r\n",
        "print('Sample val indices: ', val_indices[:20])"
      ],
      "execution_count": 128,
      "outputs": [
        {
          "output_type": "stream",
          "text": [
            "48000 12000\n",
            "Sample val indices:  [27057  5707 15391 14784 50777 16488 34565 39383 48911 38725 44067 26115\n",
            " 23616 49780 45827 13216 41408 13892 17363 46394]\n"
          ],
          "name": "stdout"
        }
      ]
    },
    {
      "cell_type": "code",
      "metadata": {
        "id": "wUvAzZDoVN_W"
      },
      "source": [
        "from torch.utils.data.sampler import SubsetRandomSampler\r\n",
        "from torch.utils.data.dataloader import DataLoader"
      ],
      "execution_count": 129,
      "outputs": []
    },
    {
      "cell_type": "code",
      "metadata": {
        "id": "oGRPR35DWTgc"
      },
      "source": [
        "batch_size = 100\r\n",
        "\r\n",
        "train_sampler = SubsetRandomSampler(train_indices)\r\n",
        "train_loader = DataLoader(dataset, \r\n",
        "                          batch_size=batch_size,\r\n",
        "                          sampler=train_sampler)\r\n",
        "\r\n",
        "val_sampler = SubsetRandomSampler(val_indices)\r\n",
        "val_loader = DataLoader(dataset, \r\n",
        "                          batch_size=batch_size,\r\n",
        "                          sampler=val_sampler)"
      ],
      "execution_count": 130,
      "outputs": []
    },
    {
      "cell_type": "code",
      "metadata": {
        "id": "xoJ5heJNaFKL"
      },
      "source": [
        ""
      ],
      "execution_count": null,
      "outputs": []
    },
    {
      "cell_type": "code",
      "metadata": {
        "id": "DbVZhIUKaFM_"
      },
      "source": [
        ""
      ],
      "execution_count": null,
      "outputs": []
    },
    {
      "cell_type": "code",
      "metadata": {
        "id": "KFrTnsUJaFQX"
      },
      "source": [
        ""
      ],
      "execution_count": null,
      "outputs": []
    }
  ]
}